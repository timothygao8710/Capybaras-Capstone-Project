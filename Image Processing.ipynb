{
 "cells": [
  {
   "cell_type": "markdown",
   "id": "81c70136-1b25-40ca-bf80-bc84ee5d88b1",
   "metadata": {},
   "source": [
    "# Setup #"
   ]
  },
  {
   "cell_type": "code",
   "execution_count": 2,
   "id": "0682aacb-ef0a-40e7-86c9-24475d38a35a",
   "metadata": {},
   "outputs": [],
   "source": [
    "# Importing standard Qiskit libraries and configuring account\n",
    "from qiskit import *\n",
    "from qiskit import IBMQ\n",
    "from qiskit.compiler import transpile, assemble\n",
    "from qiskit.tools.jupyter import *\n",
    "from qiskit.visualization import *\n",
    "\n",
    "import numpy as np\n",
    "import matplotlib.pyplot as plt\n",
    "from matplotlib import style\n",
    "style.use('bmh')\n",
    "\n",
    "# Detection algorithm works with an NxN matrix\n",
    "N = 8\n",
    "#N is a power of 2"
   ]
  },
  {
   "cell_type": "markdown",
   "id": "ffbeff94-1daf-4ca3-89b8-c7f590b38203",
   "metadata": {},
   "source": [
    "# Helper Functions #"
   ]
  },
  {
   "cell_type": "code",
   "execution_count": 4,
   "id": "bc3db836-e8d4-4df1-a7ab-560d55462a6b",
   "metadata": {},
   "outputs": [],
   "source": [
    "def plot_image(img, title: str):\n",
    "    plt.title(title)\n",
    "    plt.xticks(range(img.shape[0]))\n",
    "    plt.yticks(range(img.shape[1]))\n",
    "    plt.imshow(img, extent=[0, img.shape[0], img.shape[1], 0], cmap='viridis')\n",
    "    plt.show()"
   ]
  },
  {
   "cell_type": "code",
   "execution_count": 5,
   "id": "b85c8f6f-517e-4a94-bc08-85549169c2e1",
   "metadata": {},
   "outputs": [],
   "source": [
    "#Normalize -- squared amplitudes must sum to 1\n",
    "def amplitude_encode(img_data):\n",
    "    \n",
    "    # Calculate the RMS value\n",
    "    rms = np.sqrt(np.sum(np.sum(img_data**2, axis=1)))\n",
    "    \n",
    "    # Create normalized image\n",
    "    image_norm = []\n",
    "    for arr in img_data:\n",
    "        for ele in arr:\n",
    "            image_norm.append(ele / rms)\n",
    "        \n",
    "    # Return the normalized image as a numpy array\n",
    "    return np.array(image_norm)"
   ]
  },
  {
   "cell_type": "markdown",
   "id": "7e8c0513-05dc-4559-943e-0fa54c63d8b3",
   "metadata": {},
   "source": [
    "# Image Preprocessing #"
   ]
  },
  {
   "cell_type": "code",
   "execution_count": 3,
   "id": "b2894361-9447-4b31-9d24-ffc8400d9cb5",
   "metadata": {},
   "outputs": [
    {
     "ename": "OSError",
     "evalue": "[Errno 22] Invalid argument: '\\test_images\\\\squarecapybara.jpg'",
     "output_type": "error",
     "traceback": [
      "\u001b[1;31m---------------------------------------------------------------------------\u001b[0m",
      "\u001b[1;31mOSError\u001b[0m                                   Traceback (most recent call last)",
      "\u001b[1;32mc:\\Users\\xiaog\\Documents\\GitHub\\Capybaras-Capstone-Project\\Image Processing.ipynb Cell 4\u001b[0m in \u001b[0;36m<cell line: 3>\u001b[1;34m()\u001b[0m\n\u001b[0;32m      <a href='vscode-notebook-cell:/c%3A/Users/xiaog/Documents/GitHub/Capybaras-Capstone-Project/Image%20Processing.ipynb#ch0000003?line=0'>1</a>\u001b[0m \u001b[39m#Input Processing to np array\u001b[39;00m\n\u001b[1;32m----> <a href='vscode-notebook-cell:/c%3A/Users/xiaog/Documents/GitHub/Capybaras-Capstone-Project/Image%20Processing.ipynb#ch0000003?line=2'>3</a>\u001b[0m img_raw \u001b[39m=\u001b[39m plt\u001b[39m.\u001b[39;49mimread(\u001b[39m'\u001b[39;49m\u001b[39m\\t\u001b[39;49;00m\u001b[39mest_images\u001b[39;49m\u001b[39m\\\u001b[39;49m\u001b[39msquarecapybara.jpg\u001b[39;49m\u001b[39m'\u001b[39;49m)\n\u001b[0;32m      <a href='vscode-notebook-cell:/c%3A/Users/xiaog/Documents/GitHub/Capybaras-Capstone-Project/Image%20Processing.ipynb#ch0000003?line=3'>4</a>\u001b[0m \u001b[39m# img_raw = plt.imread('/test_images/test_image1.jpg')\u001b[39;00m\n\u001b[0;32m      <a href='vscode-notebook-cell:/c%3A/Users/xiaog/Documents/GitHub/Capybaras-Capstone-Project/Image%20Processing.ipynb#ch0000003?line=5'>6</a>\u001b[0m n, m, k \u001b[39m=\u001b[39m img_raw\u001b[39m.\u001b[39mshape\n",
      "File \u001b[1;32mc:\\Users\\xiaog\\Documents\\Anaconda\\envs\\qiskit\\lib\\site-packages\\matplotlib\\pyplot.py:2160\u001b[0m, in \u001b[0;36mimread\u001b[1;34m(fname, format)\u001b[0m\n\u001b[0;32m   2158\u001b[0m \u001b[39m@_copy_docstring_and_deprecators\u001b[39m(matplotlib\u001b[39m.\u001b[39mimage\u001b[39m.\u001b[39mimread)\n\u001b[0;32m   2159\u001b[0m \u001b[39mdef\u001b[39;00m \u001b[39mimread\u001b[39m(fname, \u001b[39mformat\u001b[39m\u001b[39m=\u001b[39m\u001b[39mNone\u001b[39;00m):\n\u001b[1;32m-> 2160\u001b[0m     \u001b[39mreturn\u001b[39;00m matplotlib\u001b[39m.\u001b[39;49mimage\u001b[39m.\u001b[39;49mimread(fname, \u001b[39mformat\u001b[39;49m)\n",
      "File \u001b[1;32mc:\\Users\\xiaog\\Documents\\Anaconda\\envs\\qiskit\\lib\\site-packages\\matplotlib\\image.py:1560\u001b[0m, in \u001b[0;36mimread\u001b[1;34m(fname, format)\u001b[0m\n\u001b[0;32m   1558\u001b[0m                 response \u001b[39m=\u001b[39m io\u001b[39m.\u001b[39mBytesIO(response\u001b[39m.\u001b[39mread())\n\u001b[0;32m   1559\u001b[0m             \u001b[39mreturn\u001b[39;00m imread(response, \u001b[39mformat\u001b[39m\u001b[39m=\u001b[39mext)\n\u001b[1;32m-> 1560\u001b[0m \u001b[39mwith\u001b[39;00m img_open(fname) \u001b[39mas\u001b[39;00m image:\n\u001b[0;32m   1561\u001b[0m     \u001b[39mreturn\u001b[39;00m (_pil_png_to_float_array(image)\n\u001b[0;32m   1562\u001b[0m             \u001b[39mif\u001b[39;00m \u001b[39misinstance\u001b[39m(image, PIL\u001b[39m.\u001b[39mPngImagePlugin\u001b[39m.\u001b[39mPngImageFile) \u001b[39melse\u001b[39;00m\n\u001b[0;32m   1563\u001b[0m             pil_to_array(image))\n",
      "File \u001b[1;32mc:\\Users\\xiaog\\Documents\\Anaconda\\envs\\qiskit\\lib\\site-packages\\PIL\\Image.py:3092\u001b[0m, in \u001b[0;36mopen\u001b[1;34m(fp, mode, formats)\u001b[0m\n\u001b[0;32m   3089\u001b[0m     filename \u001b[39m=\u001b[39m fp\n\u001b[0;32m   3091\u001b[0m \u001b[39mif\u001b[39;00m filename:\n\u001b[1;32m-> 3092\u001b[0m     fp \u001b[39m=\u001b[39m builtins\u001b[39m.\u001b[39;49mopen(filename, \u001b[39m\"\u001b[39;49m\u001b[39mrb\u001b[39;49m\u001b[39m\"\u001b[39;49m)\n\u001b[0;32m   3093\u001b[0m     exclusive_fp \u001b[39m=\u001b[39m \u001b[39mTrue\u001b[39;00m\n\u001b[0;32m   3095\u001b[0m \u001b[39mtry\u001b[39;00m:\n",
      "\u001b[1;31mOSError\u001b[0m: [Errno 22] Invalid argument: '\\test_images\\\\squarecapybara.jpg'"
     ]
    }
   ],
   "source": [
    "#Input Processing to np array\n",
    "\n",
    "img_raw = plt.imread('\\test_images\\squarecapybara.jpg')\n",
    "# img_raw = plt.imread('/test_images/test_image1.jpg')\n",
    "\n",
    "n, m, k = img_raw.shape\n",
    "print('Raw Image info:', image_raw.shape)\n",
    "print('Raw Image datatype:', image_raw.dtype)\n",
    "\n",
    "if n != m:\n",
    "    raise Exception(\"Image must be square\")\n",
    "\n",
    "if n % N != 0:\n",
    "    raise Exception(f\"Image cannot be converted to an {N} by {N} matrix\")\n",
    "\n",
    "# we need to \"reduce\" each sz X sz grid\n",
    "sz = n / N\n",
    "\n",
    "img = np.zeros(shape=(n, n))\n",
    "\n",
    "for i in range(0, n, sz):\n",
    "    for j in range(0, n, sz):\n",
    "        #This will be a single cell in final pixel\n",
    "        val = np.sum(img_raw[i:i+sz][j:j+sz]) / (sz * sz)\n",
    "        img[i][j] = val\n",
    "\n",
    "print(img)"
   ]
  },
  {
   "cell_type": "code",
   "execution_count": null,
   "id": "2fe0382e-d5b5-4392-8007-bd07be0e3b49",
   "metadata": {},
   "outputs": [],
   "source": [
    "# Horizontal: Original image\n",
    "image_norm_h = amplitude_encode(image)\n",
    "\n",
    "# Vertical: Transpose of Original image\n",
    "image_norm_v = amplitude_encode(image.T)"
   ]
  }
 ],
 "metadata": {
  "kernelspec": {
   "display_name": "Python 3.10.4 ('qiskit')",
   "language": "python",
   "name": "python3"
  },
  "language_info": {
   "codemirror_mode": {
    "name": "ipython",
    "version": 3
   },
   "file_extension": ".py",
   "mimetype": "text/x-python",
   "name": "python",
   "nbconvert_exporter": "python",
   "pygments_lexer": "ipython3",
   "version": "3.10.4"
  },
  "vscode": {
   "interpreter": {
    "hash": "84601d1e441d141a0673c956e7b652acbe67d2894f4889020c33d54f10dbd6fa"
   }
  }
 },
 "nbformat": 4,
 "nbformat_minor": 5
}
