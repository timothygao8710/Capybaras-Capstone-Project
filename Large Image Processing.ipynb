{
 "cells": [
  {
   "cell_type": "code",
   "execution_count": 167,
   "metadata": {},
   "outputs": [],
   "source": [
    "# Importing standard Qiskit libraries and configuring account\n",
    "from qiskit import *\n",
    "from qiskit import IBMQ\n",
    "from qiskit.compiler import transpile, assemble\n",
    "from qiskit.tools.jupyter import *\n",
    "from qiskit.visualization import *\n",
    "\n",
    "#Import Numpy and Matplotlib\n",
    "import numpy as np\n",
    "from numpy import asarray\n",
    "import matplotlib.pyplot as plt\n",
    "from matplotlib import style\n",
    "style.use('bmh')\n",
    "\n",
    "#Import Pillow for greyscale\n",
    "import PIL\n",
    "from PIL import Image\n",
    "\n",
    "import os\n",
    "import math\n",
    "\n",
    "# Detection algorithm works with an NxN matrix\n",
    "N = 32\n",
    "#N is a power of 2"
   ]
  },
  {
   "cell_type": "code",
   "execution_count": 168,
   "metadata": {},
   "outputs": [],
   "source": [
    "#Plot Image\n",
    "def plot_image(img, title: str):\n",
    "    plt.title(title)\n",
    "    \n",
    "    if img.shape[0] <= 32:\n",
    "        plt.xticks(range(img.shape[0]))\n",
    "        plt.yticks(range(img.shape[1]))\n",
    "    \n",
    "    plt.imshow(img, extent=[0, img.shape[0], img.shape[1], 0], cmap='viridis')\n",
    "    plt.show()"
   ]
  },
  {
   "cell_type": "code",
   "execution_count": 169,
   "metadata": {},
   "outputs": [],
   "source": [
    "#Normalize -- squared amplitudes must sum to 1\n",
    "def amplitude_encode(img_data):\n",
    "    img_data = img_data.astype(float)    \n",
    "    # Calculate the RMS value\n",
    "    rms = np.sqrt(np.sum(np.sum(img_data**2, axis=1)))\n",
    "    \n",
    "    # Create normalized image\n",
    "    image_norm = []\n",
    "    for arr in img_data:\n",
    "        for ele in arr:\n",
    "            image_norm.append(ele / rms)\n",
    "\n",
    "    #assert np.sum(np.square(image_norm)) == 1, f\"Sum of amplitudes-squared does not equal one. Sum is: {np.sum(np.square(image_norm))}\"\n",
    "\n",
    "    # Return the normalized image as a numpy array\n",
    "    return np.array(image_norm)\n",
    "    "
   ]
  },
  {
   "cell_type": "code",
   "execution_count": 170,
   "metadata": {},
   "outputs": [],
   "source": [
    "def blockshaped(arr, nrows, ncols):\n",
    "    # Return an array of shape (n, nrows, ncols) where\n",
    "    # n * nrows * ncols = arr.size\n",
    "\n",
    "    # If arr is a 2D array, the returned array should look like n subblocks with\n",
    "    # each subblock preserving the \"physical\" layout of arr.\n",
    "    # Coutesy of Stack Exchange\n",
    "\n",
    "    #formerly h,w,k. Greyscale only has h,w\n",
    "    h, w = arr.shape\n",
    "    assert h % nrows == 0, f\"{h} rows is not evenly divisible by {nrows}\"\n",
    "    assert w % ncols == 0, f\"{w} cols is not evenly divisible by {ncols}\"\n",
    "    return (arr.reshape(h//nrows, nrows, -1, ncols)\n",
    "               .swapaxes(1,2)\n",
    "               .reshape(-1, nrows, ncols))"
   ]
  },
  {
   "cell_type": "code",
   "execution_count": 171,
   "metadata": {},
   "outputs": [
    {
     "name": "stdout",
     "output_type": "stream",
     "text": [
      "Raw Image info: (96, 96)\n",
      "Raw Image datatype: uint8\n"
     ]
    },
    {
     "data": {
      "image/png": "[encoded data removed]",
      "text/plain": [
       "<Figure size 432x288 with 1 Axes>"
      ]
     },
     "metadata": {
      "needs_background": "light"
     },
     "output_type": "display_data"
    }
   ],
   "source": [
    "#Open image and convert to greyscale using Pillow library\n",
    "img_raw = Image.open(r\"C:\\Users\\gsuser\\Downloads\\capytest.png\")\n",
    "img_grey_raw = img_raw.convert('L')\n",
    "img_grey_raw.save('test_grey.jpg')\n",
    "img_grey = np.asarray(img_grey_raw)\n",
    "\n",
    "#Image is n blocks of M x K pixels\n",
    "n, m = img_grey.shape\n",
    "print('Raw Image info:', img_grey.shape)\n",
    "print('Raw Image datatype:', img_grey.dtype)\n",
    "\n",
    "#To create cropSize x cropSize blocks for processing\n",
    "cropSize = 32\n",
    "\n",
    "#Image must be a square that can be divided into cropSize x cropSize Blocks\n",
    "if n != m:\n",
    "    raise Exception(\"Image must be square\")\n",
    "if n % cropSize != 0:\n",
    "    raise Exception(f\"Image cannot be converted to an {N} by {N} Blocks\")\n",
    "\n",
    "#Print image\n",
    "def plot_image_large(img, title: str):\n",
    "    plt.title(title)\n",
    "    plt.imshow(img, extent=[0, img.shape[0], img.shape[1], 0], cmap='viridis')\n",
    "    plt.show()\n",
    "    \n",
    "plot_image_large(img_grey, 'Original Image')\n"
   ]
  },
  {
   "cell_type": "code",
   "execution_count": 172,
   "metadata": {},
   "outputs": [
    {
     "name": "stdout",
     "output_type": "stream",
     "text": [
      "(9, 32, 32)\n",
      "9216\n"
     ]
    }
   ],
   "source": [
    "#Creates Blocks of cropSize x cropSize pixels\n",
    "img = blockshaped(img_grey, cropSize, cropSize)\n",
    "print(img.shape)\n",
    "\n",
    "#Size should be (cropSize^2) * (# of blocks)\n",
    "print(img.size)"
   ]
  },
  {
   "cell_type": "code",
   "execution_count": 173,
   "metadata": {},
   "outputs": [],
   "source": [
    "#normalize amplitudes of each block\n",
    "img_normH = []\n",
    "img_normV = []\n",
    "i = 0\n",
    "\n",
    "for block in img:\n",
    "    img_normH.append([])\n",
    "    img_normV.append([])\n",
    "    img_normH[i] = amplitude_encode(block)\n",
    "    img_normV[i] = amplitude_encode(block.T)\n",
    "    i = i + 1\n"
   ]
  },
  {
   "cell_type": "code",
   "execution_count": 174,
   "metadata": {},
   "outputs": [],
   "source": [
    "# qubit amount\n",
    "# data_qb should be math.ceil(math.log2(N))\n",
    "data_qb = math.ceil(math.log2(N**2))\n",
    "anc_qb = 1\n",
    "total_qb = data_qb + anc_qb\n",
    "\n",
    "# Initialize the amplitude permutation unitary\n",
    "D2n_1 = np.roll(np.identity(2**total_qb), 1, axis=1)"
   ]
  },
  {
   "cell_type": "code",
   "execution_count": 175,
   "metadata": {},
   "outputs": [
    {
     "name": "stdout",
     "output_type": "stream",
     "text": [
      "0\n",
      "1\n",
      "2\n",
      "3\n",
      "4\n",
      "5\n",
      "6\n",
      "7\n",
      "8\n"
     ]
    }
   ],
   "source": [
    "#circuit computation\n",
    "svH = []\n",
    "svV = []\n",
    "j = 0\n",
    "\n",
    "for block in img:\n",
    "    # horizontal scan circuit\n",
    "    print(str(j))\n",
    "    qc_h = QuantumCircuit(total_qb)\n",
    "    qc_h.initialize(img_normH[j], range(1, total_qb))\n",
    "    qc_h.h(0)\n",
    "    qc_h.unitary(D2n_1, range(total_qb))\n",
    "    qc_h.h(0)\n",
    "\n",
    "    # vertical scan circuit\n",
    "    qc_v = QuantumCircuit(total_qb)\n",
    "    qc_v.initialize(img_normV[j], range(1, total_qb))\n",
    "    qc_v.h(0)\n",
    "    qc_v.unitary(D2n_1, range(total_qb))\n",
    "    qc_v.h(0)\n",
    "\n",
    "    # Combine both circuits\n",
    "    circ_list = [qc_h, qc_v]\n",
    "\n",
    "    #---#\n",
    "\n",
    "    # run simulator\n",
    "    svH.append([])\n",
    "    svV.append([])\n",
    "\n",
    "    back = Aer.get_backend('statevector_simulator')\n",
    "    results = execute(circ_list, backend=back).result()\n",
    "    svH[j] = results.get_statevector(qc_h)\n",
    "    svV[j] = results.get_statevector(qc_v)\n",
    "\n",
    "    j = j+1"
   ]
  },
  {
   "cell_type": "code",
   "execution_count": 203,
   "metadata": {},
   "outputs": [
    {
     "ename": "IndexError",
     "evalue": "tuple index out of range",
     "output_type": "error",
     "traceback": [
      "\u001b[1;31m---------------------------------------------------------------------------\u001b[0m",
      "\u001b[1;31mIndexError\u001b[0m                                Traceback (most recent call last)",
      "\u001b[1;32mc:\\Users\\gsuser\\Documents\\GitHub\\Capybaras-Capstone-Project\\Large Image Processing.ipynb Cell 10\u001b[0m in \u001b[0;36m<cell line: 33>\u001b[1;34m()\u001b[0m\n\u001b[0;32m     <a href='vscode-notebook-cell:/c%3A/Users/gsuser/Documents/GitHub/Capybaras-Capstone-Project/Large%20Image%20Processing.ipynb#ch0000013?line=29'>30</a>\u001b[0m resultH \u001b[39m=\u001b[39m scanTotalH\u001b[39m.\u001b[39mflatten()\n\u001b[0;32m     <a href='vscode-notebook-cell:/c%3A/Users/gsuser/Documents/GitHub/Capybaras-Capstone-Project/Large%20Image%20Processing.ipynb#ch0000013?line=30'>31</a>\u001b[0m resultV \u001b[39m=\u001b[39m scanTotalV\u001b[39m.\u001b[39mflatten()\n\u001b[1;32m---> <a href='vscode-notebook-cell:/c%3A/Users/gsuser/Documents/GitHub/Capybaras-Capstone-Project/Large%20Image%20Processing.ipynb#ch0000013?line=32'>33</a>\u001b[0m plot_image(resultV, \u001b[39m'\u001b[39;49m\u001b[39mVertical scan output\u001b[39;49m\u001b[39m'\u001b[39;49m)\n\u001b[0;32m     <a href='vscode-notebook-cell:/c%3A/Users/gsuser/Documents/GitHub/Capybaras-Capstone-Project/Large%20Image%20Processing.ipynb#ch0000013?line=33'>34</a>\u001b[0m plot_image(resultH, \u001b[39m'\u001b[39m\u001b[39mHorizontal scan output\u001b[39m\u001b[39m'\u001b[39m)\n",
      "\u001b[1;32mc:\\Users\\gsuser\\Documents\\GitHub\\Capybaras-Capstone-Project\\Large Image Processing.ipynb Cell 10\u001b[0m in \u001b[0;36mplot_image\u001b[1;34m(img, title)\u001b[0m\n\u001b[0;32m      <a href='vscode-notebook-cell:/c%3A/Users/gsuser/Documents/GitHub/Capybaras-Capstone-Project/Large%20Image%20Processing.ipynb#ch0000013?line=5'>6</a>\u001b[0m     plt\u001b[39m.\u001b[39mxticks(\u001b[39mrange\u001b[39m(img\u001b[39m.\u001b[39mshape[\u001b[39m0\u001b[39m]))\n\u001b[0;32m      <a href='vscode-notebook-cell:/c%3A/Users/gsuser/Documents/GitHub/Capybaras-Capstone-Project/Large%20Image%20Processing.ipynb#ch0000013?line=6'>7</a>\u001b[0m     plt\u001b[39m.\u001b[39myticks(\u001b[39mrange\u001b[39m(img\u001b[39m.\u001b[39mshape[\u001b[39m1\u001b[39m]))\n\u001b[1;32m----> <a href='vscode-notebook-cell:/c%3A/Users/gsuser/Documents/GitHub/Capybaras-Capstone-Project/Large%20Image%20Processing.ipynb#ch0000013?line=8'>9</a>\u001b[0m plt\u001b[39m.\u001b[39mimshow(img, extent\u001b[39m=\u001b[39m[\u001b[39m0\u001b[39m, img\u001b[39m.\u001b[39mshape[\u001b[39m0\u001b[39m], img\u001b[39m.\u001b[39;49mshape[\u001b[39m1\u001b[39;49m], \u001b[39m0\u001b[39m], cmap\u001b[39m=\u001b[39m\u001b[39m'\u001b[39m\u001b[39mviridis\u001b[39m\u001b[39m'\u001b[39m)\n\u001b[0;32m     <a href='vscode-notebook-cell:/c%3A/Users/gsuser/Documents/GitHub/Capybaras-Capstone-Project/Large%20Image%20Processing.ipynb#ch0000013?line=9'>10</a>\u001b[0m plt\u001b[39m.\u001b[39mshow()\n",
      "\u001b[1;31mIndexError\u001b[0m: tuple index out of range"
     ]
    },
    {
     "data": {
      "image/png": "[encoded data removed]",
      "text/plain": [
       "<Figure size 432x288 with 1 Axes>"
      ]
     },
     "metadata": {
      "needs_background": "light"
     },
     "output_type": "display_data"
    }
   ],
   "source": [
    "# Classical postprocessing and plotting\n",
    "\n",
    "# lambda function for binary value thresholding\n",
    "threshold = lambda amp: (amp > 1e-15 or amp < -1e-15)\n",
    "\n",
    "scanTotalH = []\n",
    "scanTotalV = []\n",
    "\n",
    "# select odd states from raw statevectors and \n",
    "# reshape column vector to NxN\n",
    "k = 0\n",
    "\n",
    "for listH, listV in zip(svH, svV):\n",
    "\n",
    "    # if k == 0:\n",
    "    #     scanTotalV = np.abs(np.array([1 if threshold(listV[2*i+1].real) else 0 for i in range(2**data_qb)])).reshape(cropSize, cropSize).T\n",
    "    #     scanTotalH = np.abs(np.array([1 if threshold(listH[2*i+1].real) else 0 for i in range(2**data_qb)])).reshape(cropSize, cropSize)\n",
    "\n",
    "    edge_scan_v = np.abs(np.array([1 if threshold(listV[2*i+1].real) else 0 for i in range(2**data_qb)])).reshape(cropSize, cropSize).T\n",
    "    edge_scan_h = np.abs(np.array([1 if threshold(listH[2*i+1].real) else 0 for i in range(2**data_qb)])).reshape(cropSize, cropSize)\n",
    "\n",
    "    scanTotalV.append(edge_scan_v)\n",
    "    scanTotalH.append(edge_scan_h)\n",
    "\n",
    "    k = k+1\n",
    "\n",
    "scanTotalH = np.asarray(scanTotalH)\n",
    "scanTotalV = np.asarray(scanTotalV)\n",
    "\n",
    "resultH = scanTotalH.flatten()\n",
    "resultV = scanTotalV.flatten()\n",
    "\n",
    "plot_image(resultV, 'Vertical scan output')\n",
    "plot_image(resultH, 'Horizontal scan output')\n",
    "\n"
   ]
  },
  {
   "cell_type": "code",
   "execution_count": 193,
   "metadata": {},
   "outputs": [
    {
     "name": "stdout",
     "output_type": "stream",
     "text": [
      "[array([0, 0, 0, 0, 0, 0, 0, 0, 0, 0, 0, 0, 0, 0, 0, 0, 0, 0, 0, 0, 0, 0,\n",
      "       0, 0, 0, 0, 0, 0, 0, 0, 0, 0]), array([0, 0, 0, 0, 0, 0, 0, 0, 0, 0, 0, 0, 0, 0, 0, 0, 0, 0, 0, 0, 0, 0,\n",
      "       0, 0, 0, 0, 0, 0, 0, 0, 0, 0]), array([0, 0, 0, 0, 0, 0, 0, 0, 0, 0, 0, 0, 0, 0, 0, 0, 0, 0, 0, 0, 0, 0,\n",
      "       0, 0, 0, 0, 0, 0, 0, 0, 0, 0]), array([0, 0, 0, 0, 0, 0, 0, 0, 0, 0, 0, 0, 0, 0, 0, 0, 0, 0, 0, 0, 0, 0,\n",
      "       0, 0, 0, 0, 0, 0, 0, 0, 0, 0]), array([0, 0, 0, 0, 0, 0, 0, 0, 0, 0, 0, 0, 0, 0, 0, 0, 0, 0, 0, 0, 0, 0,\n",
      "       0, 0, 0, 0, 0, 0, 0, 0, 0, 0]), array([0, 0, 0, 0, 0, 0, 0, 0, 0, 0, 0, 0, 0, 0, 0, 0, 0, 0, 0, 0, 0, 0,\n",
      "       0, 0, 0, 0, 0, 0, 0, 0, 0, 0]), array([0, 0, 0, 0, 0, 0, 0, 0, 0, 0, 0, 0, 0, 0, 0, 0, 0, 0, 0, 0, 0, 0,\n",
      "       0, 0, 0, 0, 0, 0, 0, 0, 0, 0]), array([0, 0, 0, 0, 0, 0, 0, 0, 0, 0, 0, 0, 0, 0, 0, 0, 0, 0, 0, 0, 0, 0,\n",
      "       0, 0, 0, 0, 0, 0, 0, 0, 0, 0]), array([0, 0, 0, 0, 0, 0, 0, 0, 0, 0, 0, 0, 0, 0, 0, 0, 0, 0, 0, 0, 0, 0,\n",
      "       0, 0, 0, 0, 0, 0, 0, 0, 0, 0]), array([0, 0, 0, 0, 0, 0, 0, 0, 0, 0, 0, 0, 0, 0, 0, 0, 0, 0, 0, 0, 0, 0,\n",
      "       0, 0, 0, 0, 0, 0, 0, 0, 0, 0]), array([0, 0, 0, 0, 0, 0, 0, 0, 0, 0, 0, 0, 0, 1, 1, 1, 1, 1, 1, 1, 1, 0,\n",
      "       0, 0, 0, 0, 0, 0, 0, 0, 0, 0]), array([0, 0, 0, 0, 0, 0, 0, 0, 0, 0, 0, 0, 1, 1, 1, 1, 1, 1, 1, 1, 1, 1,\n",
      "       1, 0, 0, 0, 0, 0, 0, 0, 0, 0]), array([0, 0, 0, 0, 0, 0, 0, 0, 0, 0, 0, 1, 1, 1, 1, 1, 0, 1, 1, 1, 1, 1,\n",
      "       1, 1, 1, 0, 0, 0, 0, 0, 0, 0]), array([0, 0, 0, 0, 0, 0, 0, 0, 0, 0, 1, 1, 1, 1, 0, 0, 0, 0, 0, 1, 1, 1,\n",
      "       1, 1, 1, 1, 1, 1, 1, 1, 1, 1]), array([0, 0, 0, 0, 0, 0, 0, 0, 0, 1, 1, 1, 1, 0, 0, 0, 0, 0, 0, 0, 0, 1,\n",
      "       1, 1, 1, 1, 1, 1, 1, 1, 1, 1]), array([0, 0, 0, 0, 0, 0, 0, 0, 1, 1, 1, 1, 1, 0, 0, 0, 0, 0, 0, 0, 0, 0,\n",
      "       0, 1, 1, 1, 1, 1, 1, 1, 1, 1]), array([0, 0, 0, 0, 0, 0, 0, 0, 1, 1, 1, 1, 1, 0, 1, 0, 0, 0, 0, 0, 0, 0,\n",
      "       0, 0, 0, 0, 0, 0, 0, 0, 0, 1]), array([0, 0, 0, 0, 0, 0, 0, 1, 1, 1, 1, 1, 1, 1, 1, 1, 1, 1, 1, 1, 1, 1,\n",
      "       1, 1, 1, 1, 1, 1, 1, 1, 1, 1]), array([0, 0, 0, 0, 0, 0, 0, 1, 1, 1, 1, 1, 1, 1, 1, 1, 1, 1, 1, 1, 1, 1,\n",
      "       1, 1, 1, 1, 1, 1, 1, 1, 1, 1]), array([0, 0, 0, 0, 0, 0, 0, 0, 0, 0, 0, 0, 0, 0, 0, 1, 1, 1, 1, 1, 1, 1,\n",
      "       1, 1, 1, 1, 1, 1, 1, 1, 1, 1]), array([0, 0, 0, 0, 0, 0, 0, 0, 0, 0, 0, 0, 0, 0, 0, 0, 0, 0, 0, 0, 0, 0,\n",
      "       0, 0, 0, 0, 0, 0, 0, 0, 0, 0]), array([0, 0, 0, 0, 0, 0, 0, 0, 0, 0, 0, 0, 0, 0, 0, 0, 0, 0, 0, 0, 0, 0,\n",
      "       0, 0, 0, 0, 0, 0, 0, 0, 0, 0]), array([0, 0, 0, 0, 0, 0, 0, 0, 0, 0, 0, 0, 0, 0, 0, 0, 0, 0, 0, 0, 0, 0,\n",
      "       0, 0, 0, 0, 0, 0, 0, 0, 0, 0]), array([0, 0, 0, 0, 0, 0, 0, 0, 0, 0, 0, 0, 0, 0, 0, 0, 0, 0, 0, 0, 0, 0,\n",
      "       0, 0, 0, 0, 0, 0, 0, 0, 0, 0]), array([0, 0, 0, 0, 0, 0, 0, 0, 0, 0, 0, 0, 0, 0, 0, 0, 0, 0, 0, 0, 0, 0,\n",
      "       0, 0, 0, 0, 0, 0, 0, 0, 0, 0]), array([0, 0, 0, 0, 0, 0, 0, 0, 0, 0, 0, 0, 0, 0, 0, 0, 0, 0, 0, 0, 0, 0,\n",
      "       0, 0, 0, 0, 0, 0, 0, 0, 0, 0]), array([0, 0, 0, 0, 0, 0, 0, 0, 0, 0, 0, 0, 0, 0, 0, 0, 0, 0, 0, 0, 0, 0,\n",
      "       0, 0, 0, 0, 0, 0, 0, 0, 0, 0]), array([0, 0, 0, 0, 0, 0, 0, 0, 0, 0, 0, 0, 0, 0, 0, 0, 0, 0, 0, 0, 0, 0,\n",
      "       0, 0, 0, 0, 0, 0, 0, 0, 0, 0]), array([0, 0, 0, 0, 0, 0, 0, 0, 0, 0, 0, 0, 0, 0, 0, 0, 0, 0, 0, 0, 0, 0,\n",
      "       0, 0, 0, 0, 0, 0, 0, 0, 0, 0]), array([0, 0, 0, 0, 0, 0, 0, 0, 0, 0, 0, 0, 0, 0, 0, 0, 0, 0, 0, 0, 0, 0,\n",
      "       0, 0, 0, 0, 0, 0, 0, 0, 0, 0]), array([0, 0, 0, 0, 0, 0, 0, 0, 0, 0, 0, 0, 0, 0, 0, 0, 0, 0, 0, 0, 0, 0,\n",
      "       0, 0, 0, 0, 0, 0, 0, 0, 0, 0]), array([0, 0, 0, 0, 0, 0, 0, 0, 0, 0, 0, 0, 0, 0, 0, 0, 0, 0, 0, 0, 0, 0,\n",
      "       0, 0, 0, 0, 0, 0, 0, 0, 0, 0])]\n"
     ]
    },
    {
     "ename": "AttributeError",
     "evalue": "'list' object has no attribute 'shape'",
     "output_type": "error",
     "traceback": [
      "\u001b[1;31m---------------------------------------------------------------------------\u001b[0m",
      "\u001b[1;31mAttributeError\u001b[0m                            Traceback (most recent call last)",
      "\u001b[1;32mc:\\Users\\gsuser\\Documents\\GitHub\\Capybaras-Capstone-Project\\Large Image Processing.ipynb Cell 11\u001b[0m in \u001b[0;36m<cell line: 10>\u001b[1;34m()\u001b[0m\n\u001b[0;32m      <a href='vscode-notebook-cell:/c%3A/Users/gsuser/Documents/GitHub/Capybaras-Capstone-Project/Large%20Image%20Processing.ipynb#ch0000014?line=6'>7</a>\u001b[0m     i \u001b[39m=\u001b[39m i\u001b[39m+\u001b[39m\u001b[39m1\u001b[39m\n\u001b[0;32m      <a href='vscode-notebook-cell:/c%3A/Users/gsuser/Documents/GitHub/Capybaras-Capstone-Project/Large%20Image%20Processing.ipynb#ch0000014?line=8'>9</a>\u001b[0m \u001b[39mprint\u001b[39m(totalScan)\n\u001b[1;32m---> <a href='vscode-notebook-cell:/c%3A/Users/gsuser/Documents/GitHub/Capybaras-Capstone-Project/Large%20Image%20Processing.ipynb#ch0000014?line=9'>10</a>\u001b[0m plot_image_large(totalScan, \u001b[39m\"\u001b[39;49m\u001b[39mAt last\u001b[39;49m\u001b[39m\"\u001b[39;49m)\n",
      "\u001b[1;32mc:\\Users\\gsuser\\Documents\\GitHub\\Capybaras-Capstone-Project\\Large Image Processing.ipynb Cell 11\u001b[0m in \u001b[0;36mplot_image_large\u001b[1;34m(img, title)\u001b[0m\n\u001b[0;32m     <a href='vscode-notebook-cell:/c%3A/Users/gsuser/Documents/GitHub/Capybaras-Capstone-Project/Large%20Image%20Processing.ipynb#ch0000014?line=21'>22</a>\u001b[0m \u001b[39mdef\u001b[39;00m \u001b[39mplot_image_large\u001b[39m(img, title: \u001b[39mstr\u001b[39m):\n\u001b[0;32m     <a href='vscode-notebook-cell:/c%3A/Users/gsuser/Documents/GitHub/Capybaras-Capstone-Project/Large%20Image%20Processing.ipynb#ch0000014?line=22'>23</a>\u001b[0m     plt\u001b[39m.\u001b[39mtitle(title)\n\u001b[1;32m---> <a href='vscode-notebook-cell:/c%3A/Users/gsuser/Documents/GitHub/Capybaras-Capstone-Project/Large%20Image%20Processing.ipynb#ch0000014?line=23'>24</a>\u001b[0m     plt\u001b[39m.\u001b[39mimshow(img, extent\u001b[39m=\u001b[39m[\u001b[39m0\u001b[39m, img\u001b[39m.\u001b[39;49mshape[\u001b[39m0\u001b[39m], img\u001b[39m.\u001b[39mshape[\u001b[39m1\u001b[39m], \u001b[39m0\u001b[39m], cmap\u001b[39m=\u001b[39m\u001b[39m'\u001b[39m\u001b[39mviridis\u001b[39m\u001b[39m'\u001b[39m)\n\u001b[0;32m     <a href='vscode-notebook-cell:/c%3A/Users/gsuser/Documents/GitHub/Capybaras-Capstone-Project/Large%20Image%20Processing.ipynb#ch0000014?line=24'>25</a>\u001b[0m     plt\u001b[39m.\u001b[39mshow()\n",
      "\u001b[1;31mAttributeError\u001b[0m: 'list' object has no attribute 'shape'"
     ]
    },
    {
     "data": {
      "image/png": "[encoded data removed]",
      "text/plain": [
       "<Figure size 432x288 with 1 Axes>"
      ]
     },
     "metadata": {
      "needs_background": "light"
     },
     "output_type": "display_data"
    }
   ],
   "source": [
    "i = 0\n",
    "totalScan = []\n",
    "\n",
    "for partH, partV in zip(scanTotalH, scanTotalV):\n",
    "    totalScan.append([])\n",
    "    totalScan[i] = partH | partV\n",
    "    i = i+1\n",
    "\n",
    "print(totalScan)\n",
    "plot_image_large(totalScan, \"At last\")"
   ]
  }
 ],
 "metadata": {
  "kernelspec": {
   "display_name": "Python 3.10.5 64-bit (windows store)",
   "language": "python",
   "name": "python3"
  },
  "language_info": {
   "name": "python",
   "version": "3.10.5"
  },
  "orig_nbformat": 4,
  "vscode": {
   "interpreter": {
    "hash": "12ae82a7a2c557bca35abae126f3af05a68047e83f0472faf7128a6f4f964f04"
   }
  }
 },
 "nbformat": 4,
 "nbformat_minor": 2
}
