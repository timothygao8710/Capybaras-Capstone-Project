{
 "cells": [
  {
   "cell_type": "markdown",
   "id": "81c70136-1b25-40ca-bf80-bc84ee5d88b1",
   "metadata": {},
   "source": [
    "# Setup #"
   ]
  },
  {
   "cell_type": "code",
   "execution_count": null,
   "id": "0682aacb-ef0a-40e7-86c9-24475d38a35a",
   "metadata": {},
   "outputs": [],
   "source": [
    "# Importing standard Qiskit libraries and configuring account\n",
    "from qiskit import *\n",
    "from qiskit import IBMQ\n",
    "from qiskit.compiler import transpile, assemble\n",
    "from qiskit.tools.jupyter import *\n",
    "from qiskit.visualization import *\n",
    "\n",
    "import numpy as np\n",
    "import matplotlib.pyplot as plt\n",
    "from matplotlib import style\n",
    "style.use('bmh')\n",
    "\n",
    "# Detection algorithm works with an NxN matrix\n",
    "N = 8\n",
    "#N is a power of 2"
   ]
  },
  {
   "cell_type": "markdown",
   "id": "ffbeff94-1daf-4ca3-89b8-c7f590b38203",
   "metadata": {},
   "source": [
    "# Helper Functions #"
   ]
  },
  {
   "cell_type": "code",
   "execution_count": 4,
   "id": "bc3db836-e8d4-4df1-a7ab-560d55462a6b",
   "metadata": {},
   "outputs": [],
   "source": [
    "def plot_image(img, title: str):\n",
    "    plt.title(title)\n",
    "    plt.xticks(range(img.shape[0]))\n",
    "    plt.yticks(range(img.shape[1]))\n",
    "    plt.imshow(img, extent=[0, img.shape[0], img.shape[1], 0], cmap='viridis')\n",
    "    plt.show()"
   ]
  },
  {
   "cell_type": "code",
   "execution_count": 5,
   "id": "b85c8f6f-517e-4a94-bc08-85549169c2e1",
   "metadata": {},
   "outputs": [],
   "source": [
    "#Normalize -- squared amplitudes must sum to 1\n",
    "def amplitude_encode(img_data):\n",
    "    \n",
    "    # Calculate the RMS value\n",
    "    rms = np.sqrt(np.sum(np.sum(img_data**2, axis=1)))\n",
    "    \n",
    "    # Create normalized image\n",
    "    image_norm = []\n",
    "    for arr in img_data:\n",
    "        for ele in arr:\n",
    "            image_norm.append(ele / rms)\n",
    "        \n",
    "    # Return the normalized image as a numpy array\n",
    "    return np.array(image_norm)"
   ]
  },
  {
   "cell_type": "markdown",
   "id": "7e8c0513-05dc-4559-943e-0fa54c63d8b3",
   "metadata": {},
   "source": [
    "# Image Preprocessing #"
   ]
  },
  {
   "cell_type": "code",
   "execution_count": null,
   "id": "b2894361-9447-4b31-9d24-ffc8400d9cb5",
   "metadata": {},
   "outputs": [],
   "source": [
    "#Input Processing to np array\n",
    "\n",
    "img_raw = plt.imread('/test_images/test_image0.jpg')\n",
    "# img_raw = plt.imread('/test_images/test_image1.jpg')\n",
    "\n",
    "n, m, k = img_raw.shape\n",
    "print('Raw Image info:', image_raw.shape)\n",
    "print('Raw Image datatype:', image_raw.dtype)\n",
    "\n",
    "if n != m:\n",
    "    raise new Exception(\"Image must be square\")\n",
    "\n",
    "if n % N != 0:\n",
    "    raise new Exception(f\"Image cannot be converted to an {N} by {N} matrix\")\n",
    "\n",
    "# we need to \"reduce\" each sz X sz grid\n",
    "sz = n / N\n",
    "\n",
    "img = np.zeros(shape=(n, n))\n",
    "\n",
    "for i in range(0, n, sz):\n",
    "    for j in range(0, n, sz):\n",
    "        #This will be a single cell in final pixel\n",
    "        val = np.sum(img_raw[i:i+sz][j:j+sz]) / (sz * sz)\n",
    "        img[i][j] = val\n",
    "\n",
    "print(img)"
   ]
  },
  {
   "cell_type": "code",
   "execution_count": null,
   "id": "2fe0382e-d5b5-4392-8007-bd07be0e3b49",
   "metadata": {},
   "outputs": [],
   "source": [
    "# Horizontal: Original image\n",
    "image_norm_h = amplitude_encode(image)\n",
    "\n",
    "# Vertical: Transpose of Original image\n",
    "image_norm_v = amplitude_encode(image.T)"
   ]
  }
 ],
 "metadata": {
  "kernelspec": {
   "display_name": "Python 3",
   "language": "python",
   "name": "python3"
  },
  "language_info": {
   "codemirror_mode": {
    "name": "ipython",
    "version": 3
   },
   "file_extension": ".py",
   "mimetype": "text/x-python",
   "name": "python",
   "nbconvert_exporter": "python",
   "pygments_lexer": "ipython3",
   "version": "3.8.8"
  }
 },
 "nbformat": 4,
 "nbformat_minor": 5
}
