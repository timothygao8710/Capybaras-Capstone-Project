{
 "cells": [
  {
   "cell_type": "code",
   "execution_count": 1,
   "id": "2e3bf07c-0619-44b8-919a-61c81fb6a9ca",
   "metadata": {},
   "outputs": [],
   "source": [
    "import cv2\n",
    "import matplotlib.image as mpimg\n",
    "import numpy as np\n",
    "import matplotlib.pyplot as plt\n",
    "from matplotlib import style\n",
    "style.use('bmh')\n",
    "\n",
    "import os\n",
    "import math"
   ]
  },
  {
   "cell_type": "code",
   "execution_count": 2,
   "id": "6d1e63c8-6679-4611-a2f2-2b35a8a9b569",
   "metadata": {},
   "outputs": [],
   "source": [
    "def read_this(image_file, gray_scale=False):\n",
    "    image_src = cv2.imread(image_file)\n",
    "    if gray_scale:\n",
    "        image_src = cv2.cvtColor(image_src, cv2.COLOR_BGR2GRAY)\n",
    "    else:\n",
    "        image_src = cv2.cvtColor(image_src, cv2.COLOR_BGR2RGB)\n",
    "    return image_src"
   ]
  },
  {
   "cell_type": "code",
   "execution_count": null,
   "id": "5e90af3f-2599-4f29-b5c9-b3231f02fc60",
   "metadata": {},
   "outputs": [],
   "source": [
    "def equalize_this(image_file, with_plot=False, gray_scale=False):\n",
    "    image_src = read_this(image_file=image_file, gray_scale=gray_scale)\n",
    "    if not gray_scale:\n",
    "        r_image, g_image, b_image = cv2.split(image_src)\n",
    "\n",
    "        r_image_eq = cv2.equalizeHist(r_image)\n",
    "        g_image_eq = cv2.equalizeHist(g_image)\n",
    "        b_image_eq = cv2.equalizeHist(b_image)\n",
    "\n",
    "        image_eq = cv2.merge((r_image_eq, g_image_eq, b_image_eq))\n",
    "        cmap_val = None\n",
    "    else:\n",
    "        image_eq = cv2.equalizeHist(image_src)\n",
    "        cmap_val = 'gray'\n",
    "\n",
    "    if with_plot:\n",
    "        fig = plt.figure(figsize=(10, 20))\n",
    "\n",
    "        ax1 = fig.add_subplot(2, 2, 1)\n",
    "        ax1.axis(\"off\")\n",
    "        ax1.title.set_text('Original')\n",
    "        ax2 = fig.add_subplot(2, 2, 2)\n",
    "        ax2.axis(\"off\")\n",
    "        ax2.title.set_text(\"Equalized\")\n",
    "\n",
    "        ax1.imshow(image_src, cmap=cmap_val)\n",
    "        ax2.imshow(image_eq, cmap=cmap_val)\n",
    "        #return True\n",
    "    return image_eq"
   ]
  }
 ],
 "metadata": {
  "kernelspec": {
   "display_name": "Python 3",
   "language": "python",
   "name": "python3"
  },
  "language_info": {
   "codemirror_mode": {
    "name": "ipython",
    "version": 3
   },
   "file_extension": ".py",
   "mimetype": "text/x-python",
   "name": "python",
   "nbconvert_exporter": "python",
   "pygments_lexer": "ipython3",
   "version": "3.8.8"
  }
 },
 "nbformat": 4,
 "nbformat_minor": 5
}
